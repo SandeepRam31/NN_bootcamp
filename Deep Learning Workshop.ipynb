{
 "cells": [
  {
   "cell_type": "code",
   "execution_count": 108,
   "id": "7d5dbc84",
   "metadata": {},
   "outputs": [],
   "source": [
    "import tensorflow as tf\n",
    "import os\n",
    "import numpy as np\n",
    "import pandas as pd"
   ]
  },
  {
   "cell_type": "markdown",
   "id": "5e336958",
   "metadata": {},
   "source": [
    "## Reading the data, and cleaning up missing values"
   ]
  },
  {
   "cell_type": "code",
   "execution_count": 109,
   "id": "2ba1aa64",
   "metadata": {},
   "outputs": [],
   "source": [
    "col_names = [\"id\", \"clump_thickness\", \"un_cell_size\", \"un_cell_shape\", \"marginal_adheshion\", \"single_eph_cell_size\", \"bare_nuclei\", \"bland_chromatin\", \"normal_nucleoli\", \"mitoses\", \"class\"]\n",
    "data = pd.read_csv('./data.csv', names = col_names, header = None)"
   ]
  },
  {
   "cell_type": "code",
   "execution_count": 110,
   "id": "f7d85cfb",
   "metadata": {
    "scrolled": true
   },
   "outputs": [
    {
     "data": {
      "text/html": [
       "<div>\n",
       "<style scoped>\n",
       "    .dataframe tbody tr th:only-of-type {\n",
       "        vertical-align: middle;\n",
       "    }\n",
       "\n",
       "    .dataframe tbody tr th {\n",
       "        vertical-align: top;\n",
       "    }\n",
       "\n",
       "    .dataframe thead th {\n",
       "        text-align: right;\n",
       "    }\n",
       "</style>\n",
       "<table border=\"1\" class=\"dataframe\">\n",
       "  <thead>\n",
       "    <tr style=\"text-align: right;\">\n",
       "      <th></th>\n",
       "      <th>id</th>\n",
       "      <th>clump_thickness</th>\n",
       "      <th>un_cell_size</th>\n",
       "      <th>un_cell_shape</th>\n",
       "      <th>marginal_adheshion</th>\n",
       "      <th>single_eph_cell_size</th>\n",
       "      <th>bare_nuclei</th>\n",
       "      <th>bland_chromatin</th>\n",
       "      <th>normal_nucleoli</th>\n",
       "      <th>mitoses</th>\n",
       "      <th>class</th>\n",
       "    </tr>\n",
       "  </thead>\n",
       "  <tbody>\n",
       "    <tr>\n",
       "      <th>0</th>\n",
       "      <td>1000025</td>\n",
       "      <td>5</td>\n",
       "      <td>1</td>\n",
       "      <td>1</td>\n",
       "      <td>1</td>\n",
       "      <td>2</td>\n",
       "      <td>1</td>\n",
       "      <td>3</td>\n",
       "      <td>1</td>\n",
       "      <td>1</td>\n",
       "      <td>2</td>\n",
       "    </tr>\n",
       "    <tr>\n",
       "      <th>1</th>\n",
       "      <td>1002945</td>\n",
       "      <td>5</td>\n",
       "      <td>4</td>\n",
       "      <td>4</td>\n",
       "      <td>5</td>\n",
       "      <td>7</td>\n",
       "      <td>10</td>\n",
       "      <td>3</td>\n",
       "      <td>2</td>\n",
       "      <td>1</td>\n",
       "      <td>2</td>\n",
       "    </tr>\n",
       "    <tr>\n",
       "      <th>2</th>\n",
       "      <td>1015425</td>\n",
       "      <td>3</td>\n",
       "      <td>1</td>\n",
       "      <td>1</td>\n",
       "      <td>1</td>\n",
       "      <td>2</td>\n",
       "      <td>2</td>\n",
       "      <td>3</td>\n",
       "      <td>1</td>\n",
       "      <td>1</td>\n",
       "      <td>2</td>\n",
       "    </tr>\n",
       "    <tr>\n",
       "      <th>3</th>\n",
       "      <td>1016277</td>\n",
       "      <td>6</td>\n",
       "      <td>8</td>\n",
       "      <td>8</td>\n",
       "      <td>1</td>\n",
       "      <td>3</td>\n",
       "      <td>4</td>\n",
       "      <td>3</td>\n",
       "      <td>7</td>\n",
       "      <td>1</td>\n",
       "      <td>2</td>\n",
       "    </tr>\n",
       "    <tr>\n",
       "      <th>4</th>\n",
       "      <td>1017023</td>\n",
       "      <td>4</td>\n",
       "      <td>1</td>\n",
       "      <td>1</td>\n",
       "      <td>3</td>\n",
       "      <td>2</td>\n",
       "      <td>1</td>\n",
       "      <td>3</td>\n",
       "      <td>1</td>\n",
       "      <td>1</td>\n",
       "      <td>2</td>\n",
       "    </tr>\n",
       "  </tbody>\n",
       "</table>\n",
       "</div>"
      ],
      "text/plain": [
       "        id  clump_thickness  un_cell_size  un_cell_shape  marginal_adheshion  \\\n",
       "0  1000025                5             1              1                   1   \n",
       "1  1002945                5             4              4                   5   \n",
       "2  1015425                3             1              1                   1   \n",
       "3  1016277                6             8              8                   1   \n",
       "4  1017023                4             1              1                   3   \n",
       "\n",
       "   single_eph_cell_size bare_nuclei  bland_chromatin  normal_nucleoli  \\\n",
       "0                     2           1                3                1   \n",
       "1                     7          10                3                2   \n",
       "2                     2           2                3                1   \n",
       "3                     3           4                3                7   \n",
       "4                     2           1                3                1   \n",
       "\n",
       "   mitoses  class  \n",
       "0        1      2  \n",
       "1        1      2  \n",
       "2        1      2  \n",
       "3        1      2  \n",
       "4        1      2  "
      ]
     },
     "execution_count": 110,
     "metadata": {},
     "output_type": "execute_result"
    }
   ],
   "source": [
    "data.head()"
   ]
  },
  {
   "cell_type": "code",
   "execution_count": 111,
   "id": "cda731ea",
   "metadata": {},
   "outputs": [],
   "source": [
    "data.drop('id', inplace = True, axis = 1)"
   ]
  },
  {
   "cell_type": "code",
   "execution_count": 112,
   "id": "879a8d48",
   "metadata": {},
   "outputs": [
    {
     "data": {
      "text/html": [
       "<div>\n",
       "<style scoped>\n",
       "    .dataframe tbody tr th:only-of-type {\n",
       "        vertical-align: middle;\n",
       "    }\n",
       "\n",
       "    .dataframe tbody tr th {\n",
       "        vertical-align: top;\n",
       "    }\n",
       "\n",
       "    .dataframe thead th {\n",
       "        text-align: right;\n",
       "    }\n",
       "</style>\n",
       "<table border=\"1\" class=\"dataframe\">\n",
       "  <thead>\n",
       "    <tr style=\"text-align: right;\">\n",
       "      <th></th>\n",
       "      <th>clump_thickness</th>\n",
       "      <th>un_cell_size</th>\n",
       "      <th>un_cell_shape</th>\n",
       "      <th>marginal_adheshion</th>\n",
       "      <th>single_eph_cell_size</th>\n",
       "      <th>bare_nuclei</th>\n",
       "      <th>bland_chromatin</th>\n",
       "      <th>normal_nucleoli</th>\n",
       "      <th>mitoses</th>\n",
       "      <th>class</th>\n",
       "    </tr>\n",
       "  </thead>\n",
       "  <tbody>\n",
       "    <tr>\n",
       "      <th>0</th>\n",
       "      <td>5</td>\n",
       "      <td>1</td>\n",
       "      <td>1</td>\n",
       "      <td>1</td>\n",
       "      <td>2</td>\n",
       "      <td>1</td>\n",
       "      <td>3</td>\n",
       "      <td>1</td>\n",
       "      <td>1</td>\n",
       "      <td>2</td>\n",
       "    </tr>\n",
       "    <tr>\n",
       "      <th>1</th>\n",
       "      <td>5</td>\n",
       "      <td>4</td>\n",
       "      <td>4</td>\n",
       "      <td>5</td>\n",
       "      <td>7</td>\n",
       "      <td>10</td>\n",
       "      <td>3</td>\n",
       "      <td>2</td>\n",
       "      <td>1</td>\n",
       "      <td>2</td>\n",
       "    </tr>\n",
       "    <tr>\n",
       "      <th>2</th>\n",
       "      <td>3</td>\n",
       "      <td>1</td>\n",
       "      <td>1</td>\n",
       "      <td>1</td>\n",
       "      <td>2</td>\n",
       "      <td>2</td>\n",
       "      <td>3</td>\n",
       "      <td>1</td>\n",
       "      <td>1</td>\n",
       "      <td>2</td>\n",
       "    </tr>\n",
       "    <tr>\n",
       "      <th>3</th>\n",
       "      <td>6</td>\n",
       "      <td>8</td>\n",
       "      <td>8</td>\n",
       "      <td>1</td>\n",
       "      <td>3</td>\n",
       "      <td>4</td>\n",
       "      <td>3</td>\n",
       "      <td>7</td>\n",
       "      <td>1</td>\n",
       "      <td>2</td>\n",
       "    </tr>\n",
       "    <tr>\n",
       "      <th>4</th>\n",
       "      <td>4</td>\n",
       "      <td>1</td>\n",
       "      <td>1</td>\n",
       "      <td>3</td>\n",
       "      <td>2</td>\n",
       "      <td>1</td>\n",
       "      <td>3</td>\n",
       "      <td>1</td>\n",
       "      <td>1</td>\n",
       "      <td>2</td>\n",
       "    </tr>\n",
       "  </tbody>\n",
       "</table>\n",
       "</div>"
      ],
      "text/plain": [
       "   clump_thickness  un_cell_size  un_cell_shape  marginal_adheshion  \\\n",
       "0                5             1              1                   1   \n",
       "1                5             4              4                   5   \n",
       "2                3             1              1                   1   \n",
       "3                6             8              8                   1   \n",
       "4                4             1              1                   3   \n",
       "\n",
       "   single_eph_cell_size bare_nuclei  bland_chromatin  normal_nucleoli  \\\n",
       "0                     2           1                3                1   \n",
       "1                     7          10                3                2   \n",
       "2                     2           2                3                1   \n",
       "3                     3           4                3                7   \n",
       "4                     2           1                3                1   \n",
       "\n",
       "   mitoses  class  \n",
       "0        1      2  \n",
       "1        1      2  \n",
       "2        1      2  \n",
       "3        1      2  \n",
       "4        1      2  "
      ]
     },
     "execution_count": 112,
     "metadata": {},
     "output_type": "execute_result"
    }
   ],
   "source": [
    "data.head()"
   ]
  },
  {
   "cell_type": "code",
   "execution_count": 113,
   "id": "f4dcce3f",
   "metadata": {},
   "outputs": [
    {
     "name": "stdout",
     "output_type": "stream",
     "text": [
      "<class 'pandas.core.frame.DataFrame'>\n",
      "RangeIndex: 699 entries, 0 to 698\n",
      "Data columns (total 10 columns):\n",
      " #   Column                Non-Null Count  Dtype \n",
      "---  ------                --------------  ----- \n",
      " 0   clump_thickness       699 non-null    int64 \n",
      " 1   un_cell_size          699 non-null    int64 \n",
      " 2   un_cell_shape         699 non-null    int64 \n",
      " 3   marginal_adheshion    699 non-null    int64 \n",
      " 4   single_eph_cell_size  699 non-null    int64 \n",
      " 5   bare_nuclei           699 non-null    object\n",
      " 6   bland_chromatin       699 non-null    int64 \n",
      " 7   normal_nucleoli       699 non-null    int64 \n",
      " 8   mitoses               699 non-null    int64 \n",
      " 9   class                 699 non-null    int64 \n",
      "dtypes: int64(9), object(1)\n",
      "memory usage: 54.7+ KB\n"
     ]
    }
   ],
   "source": [
    "data.info()"
   ]
  },
  {
   "cell_type": "code",
   "execution_count": 114,
   "id": "d6909878",
   "metadata": {},
   "outputs": [
    {
     "data": {
      "text/plain": [
       "array(['1', '10', '2', '4', '3', '9', '7', '?', '5', '8', '6'],\n",
       "      dtype=object)"
      ]
     },
     "execution_count": 114,
     "metadata": {},
     "output_type": "execute_result"
    }
   ],
   "source": [
    "data[\"bare_nuclei\"].unique()"
   ]
  },
  {
   "cell_type": "code",
   "execution_count": 115,
   "id": "c52e192a",
   "metadata": {},
   "outputs": [],
   "source": [
    "data = data[data[\"bare_nuclei\"] != '?' ]\n",
    "data.bare_nuclei = pd.to_numeric(data.bare_nuclei)"
   ]
  },
  {
   "cell_type": "code",
   "execution_count": 116,
   "id": "608ab436",
   "metadata": {},
   "outputs": [
    {
     "name": "stdout",
     "output_type": "stream",
     "text": [
      "<class 'pandas.core.frame.DataFrame'>\n",
      "Int64Index: 683 entries, 0 to 698\n",
      "Data columns (total 10 columns):\n",
      " #   Column                Non-Null Count  Dtype\n",
      "---  ------                --------------  -----\n",
      " 0   clump_thickness       683 non-null    int64\n",
      " 1   un_cell_size          683 non-null    int64\n",
      " 2   un_cell_shape         683 non-null    int64\n",
      " 3   marginal_adheshion    683 non-null    int64\n",
      " 4   single_eph_cell_size  683 non-null    int64\n",
      " 5   bare_nuclei           683 non-null    int64\n",
      " 6   bland_chromatin       683 non-null    int64\n",
      " 7   normal_nucleoli       683 non-null    int64\n",
      " 8   mitoses               683 non-null    int64\n",
      " 9   class                 683 non-null    int64\n",
      "dtypes: int64(10)\n",
      "memory usage: 58.7 KB\n"
     ]
    }
   ],
   "source": [
    "data.info()"
   ]
  },
  {
   "cell_type": "markdown",
   "id": "31bb5b1a",
   "metadata": {},
   "source": [
    "## Data preprocessing"
   ]
  },
  {
   "cell_type": "code",
   "execution_count": 117,
   "id": "60a4db95",
   "metadata": {},
   "outputs": [],
   "source": [
    "data = data.sample(frac = 1)"
   ]
  },
  {
   "cell_type": "code",
   "execution_count": 118,
   "id": "75728f84",
   "metadata": {},
   "outputs": [],
   "source": [
    "X = data.drop('class', axis = 1)\n",
    "y = data['class']"
   ]
  },
  {
   "cell_type": "code",
   "execution_count": 119,
   "id": "49728191",
   "metadata": {},
   "outputs": [],
   "source": [
    "data_stats = X.describe().transpose()"
   ]
  },
  {
   "cell_type": "code",
   "execution_count": 120,
   "id": "327ac0c1",
   "metadata": {},
   "outputs": [],
   "source": [
    "def norm(df):\n",
    "    return (df - data_stats['mean']) / data_stats['std']"
   ]
  },
  {
   "cell_type": "code",
   "execution_count": 121,
   "id": "b701684a",
   "metadata": {},
   "outputs": [],
   "source": [
    "X = norm(X)"
   ]
  },
  {
   "cell_type": "code",
   "execution_count": 122,
   "id": "7feb1edb",
   "metadata": {
    "scrolled": true
   },
   "outputs": [
    {
     "data": {
      "text/html": [
       "<div>\n",
       "<style scoped>\n",
       "    .dataframe tbody tr th:only-of-type {\n",
       "        vertical-align: middle;\n",
       "    }\n",
       "\n",
       "    .dataframe tbody tr th {\n",
       "        vertical-align: top;\n",
       "    }\n",
       "\n",
       "    .dataframe thead th {\n",
       "        text-align: right;\n",
       "    }\n",
       "</style>\n",
       "<table border=\"1\" class=\"dataframe\">\n",
       "  <thead>\n",
       "    <tr style=\"text-align: right;\">\n",
       "      <th></th>\n",
       "      <th>clump_thickness</th>\n",
       "      <th>un_cell_size</th>\n",
       "      <th>un_cell_shape</th>\n",
       "      <th>marginal_adheshion</th>\n",
       "      <th>single_eph_cell_size</th>\n",
       "      <th>bare_nuclei</th>\n",
       "      <th>bland_chromatin</th>\n",
       "      <th>normal_nucleoli</th>\n",
       "      <th>mitoses</th>\n",
       "    </tr>\n",
       "  </thead>\n",
       "  <tbody>\n",
       "    <tr>\n",
       "      <th>count</th>\n",
       "      <td>6.830000e+02</td>\n",
       "      <td>6.830000e+02</td>\n",
       "      <td>6.830000e+02</td>\n",
       "      <td>6.830000e+02</td>\n",
       "      <td>6.830000e+02</td>\n",
       "      <td>6.830000e+02</td>\n",
       "      <td>6.830000e+02</td>\n",
       "      <td>6.830000e+02</td>\n",
       "      <td>6.830000e+02</td>\n",
       "    </tr>\n",
       "    <tr>\n",
       "      <th>mean</th>\n",
       "      <td>1.144359e-16</td>\n",
       "      <td>1.170367e-17</td>\n",
       "      <td>-7.152242e-17</td>\n",
       "      <td>5.461712e-17</td>\n",
       "      <td>-1.820571e-17</td>\n",
       "      <td>1.300408e-18</td>\n",
       "      <td>3.316039e-17</td>\n",
       "      <td>4.291345e-17</td>\n",
       "      <td>5.981875e-17</td>\n",
       "    </tr>\n",
       "    <tr>\n",
       "      <th>std</th>\n",
       "      <td>1.000000e+00</td>\n",
       "      <td>1.000000e+00</td>\n",
       "      <td>1.000000e+00</td>\n",
       "      <td>1.000000e+00</td>\n",
       "      <td>1.000000e+00</td>\n",
       "      <td>1.000000e+00</td>\n",
       "      <td>1.000000e+00</td>\n",
       "      <td>1.000000e+00</td>\n",
       "      <td>1.000000e+00</td>\n",
       "    </tr>\n",
       "    <tr>\n",
       "      <th>min</th>\n",
       "      <td>-1.220297e+00</td>\n",
       "      <td>-7.016978e-01</td>\n",
       "      <td>-7.412304e-01</td>\n",
       "      <td>-6.388973e-01</td>\n",
       "      <td>-1.005027e+00</td>\n",
       "      <td>-6.983413e-01</td>\n",
       "      <td>-9.981216e-01</td>\n",
       "      <td>-6.124785e-01</td>\n",
       "      <td>-3.481446e-01</td>\n",
       "    </tr>\n",
       "    <tr>\n",
       "      <th>25%</th>\n",
       "      <td>-8.657829e-01</td>\n",
       "      <td>-7.016978e-01</td>\n",
       "      <td>-7.412304e-01</td>\n",
       "      <td>-6.388973e-01</td>\n",
       "      <td>-5.552016e-01</td>\n",
       "      <td>-6.983413e-01</td>\n",
       "      <td>-5.899078e-01</td>\n",
       "      <td>-6.124785e-01</td>\n",
       "      <td>-3.481446e-01</td>\n",
       "    </tr>\n",
       "    <tr>\n",
       "      <th>50%</th>\n",
       "      <td>-1.567545e-01</td>\n",
       "      <td>-7.016978e-01</td>\n",
       "      <td>-7.412304e-01</td>\n",
       "      <td>-6.388973e-01</td>\n",
       "      <td>-5.552016e-01</td>\n",
       "      <td>-6.983413e-01</td>\n",
       "      <td>-1.816940e-01</td>\n",
       "      <td>-6.124785e-01</td>\n",
       "      <td>-3.481446e-01</td>\n",
       "    </tr>\n",
       "    <tr>\n",
       "      <th>75%</th>\n",
       "      <td>5.522740e-01</td>\n",
       "      <td>6.032977e-01</td>\n",
       "      <td>5.971975e-01</td>\n",
       "      <td>4.083832e-01</td>\n",
       "      <td>3.444489e-01</td>\n",
       "      <td>6.738310e-01</td>\n",
       "      <td>6.347336e-01</td>\n",
       "      <td>3.702689e-01</td>\n",
       "      <td>-3.481446e-01</td>\n",
       "    </tr>\n",
       "    <tr>\n",
       "      <th>max</th>\n",
       "      <td>1.970331e+00</td>\n",
       "      <td>2.234542e+00</td>\n",
       "      <td>2.270232e+00</td>\n",
       "      <td>2.502944e+00</td>\n",
       "      <td>3.043400e+00</td>\n",
       "      <td>1.771569e+00</td>\n",
       "      <td>2.675803e+00</td>\n",
       "      <td>2.335764e+00</td>\n",
       "      <td>4.846139e+00</td>\n",
       "    </tr>\n",
       "  </tbody>\n",
       "</table>\n",
       "</div>"
      ],
      "text/plain": [
       "       clump_thickness  un_cell_size  un_cell_shape  marginal_adheshion  \\\n",
       "count     6.830000e+02  6.830000e+02   6.830000e+02        6.830000e+02   \n",
       "mean      1.144359e-16  1.170367e-17  -7.152242e-17        5.461712e-17   \n",
       "std       1.000000e+00  1.000000e+00   1.000000e+00        1.000000e+00   \n",
       "min      -1.220297e+00 -7.016978e-01  -7.412304e-01       -6.388973e-01   \n",
       "25%      -8.657829e-01 -7.016978e-01  -7.412304e-01       -6.388973e-01   \n",
       "50%      -1.567545e-01 -7.016978e-01  -7.412304e-01       -6.388973e-01   \n",
       "75%       5.522740e-01  6.032977e-01   5.971975e-01        4.083832e-01   \n",
       "max       1.970331e+00  2.234542e+00   2.270232e+00        2.502944e+00   \n",
       "\n",
       "       single_eph_cell_size   bare_nuclei  bland_chromatin  normal_nucleoli  \\\n",
       "count          6.830000e+02  6.830000e+02     6.830000e+02     6.830000e+02   \n",
       "mean          -1.820571e-17  1.300408e-18     3.316039e-17     4.291345e-17   \n",
       "std            1.000000e+00  1.000000e+00     1.000000e+00     1.000000e+00   \n",
       "min           -1.005027e+00 -6.983413e-01    -9.981216e-01    -6.124785e-01   \n",
       "25%           -5.552016e-01 -6.983413e-01    -5.899078e-01    -6.124785e-01   \n",
       "50%           -5.552016e-01 -6.983413e-01    -1.816940e-01    -6.124785e-01   \n",
       "75%            3.444489e-01  6.738310e-01     6.347336e-01     3.702689e-01   \n",
       "max            3.043400e+00  1.771569e+00     2.675803e+00     2.335764e+00   \n",
       "\n",
       "            mitoses  \n",
       "count  6.830000e+02  \n",
       "mean   5.981875e-17  \n",
       "std    1.000000e+00  \n",
       "min   -3.481446e-01  \n",
       "25%   -3.481446e-01  \n",
       "50%   -3.481446e-01  \n",
       "75%   -3.481446e-01  \n",
       "max    4.846139e+00  "
      ]
     },
     "execution_count": 122,
     "metadata": {},
     "output_type": "execute_result"
    }
   ],
   "source": [
    "X.describe()"
   ]
  },
  {
   "cell_type": "code",
   "execution_count": 123,
   "id": "b4660ad6",
   "metadata": {},
   "outputs": [
    {
     "data": {
      "text/plain": [
       "array([2, 4], dtype=int64)"
      ]
     },
     "execution_count": 123,
     "metadata": {},
     "output_type": "execute_result"
    }
   ],
   "source": [
    "y.unique()"
   ]
  },
  {
   "cell_type": "code",
   "execution_count": 124,
   "id": "f822e4d8",
   "metadata": {},
   "outputs": [],
   "source": [
    "y = np.where(y == 2, 0, 1)"
   ]
  },
  {
   "cell_type": "code",
   "execution_count": 125,
   "id": "29ea879e",
   "metadata": {},
   "outputs": [],
   "source": [
    "X_train, X_test, y_train, y_test = X[:int(len(data)*0.8)], X[int(len(data)*0.8):], y[:int(len(data)*0.8)], y[int(len(data)*0.8):]"
   ]
  },
  {
   "cell_type": "code",
   "execution_count": 126,
   "id": "13e5903f",
   "metadata": {},
   "outputs": [
    {
     "data": {
      "text/plain": [
       "(546, 9)"
      ]
     },
     "execution_count": 126,
     "metadata": {},
     "output_type": "execute_result"
    }
   ],
   "source": [
    "X_train.shape"
   ]
  },
  {
   "cell_type": "code",
   "execution_count": 127,
   "id": "2193fbb3",
   "metadata": {},
   "outputs": [
    {
     "data": {
      "text/plain": [
       "(546,)"
      ]
     },
     "execution_count": 127,
     "metadata": {},
     "output_type": "execute_result"
    }
   ],
   "source": [
    "y_train.shape"
   ]
  },
  {
   "cell_type": "markdown",
   "id": "35b543cb",
   "metadata": {},
   "source": [
    "## Building a model from scratch"
   ]
  },
  {
   "cell_type": "markdown",
   "id": "1e8e464c",
   "metadata": {},
   "source": [
    "The model will be of the following architecture:\n",
    "\n",
    "* Input Layer\n",
    "* Dense(128) with relu activation\n",
    "* Dropout of 0.3\n",
    "* Dense(1) with sigmoid activation\n",
    "\n",
    "<br>\n",
    "There are 3 ways of building a keras model:\n",
    "\n",
    "* tf.keras.models.Sequential\n",
    "* tf.keras.models.Model\n",
    "* Custom models inheriting from Model class"
   ]
  },
  {
   "cell_type": "markdown",
   "id": "c401139f",
   "metadata": {},
   "source": [
    "#### Sequential Models"
   ]
  },
  {
   "cell_type": "code",
   "execution_count": 128,
   "id": "52218fff",
   "metadata": {},
   "outputs": [],
   "source": [
    "model_seq = tf.keras.models.Sequential(\n",
    "    [\n",
    "        Dense(128, activation = 'relu'),\n",
    "        Dropout(0.3),\n",
    "        Dense(1, activation = 'sigmoid'),\n",
    "    ]\n",
    ")"
   ]
  },
  {
   "cell_type": "code",
   "execution_count": 129,
   "id": "058f9c73",
   "metadata": {},
   "outputs": [],
   "source": [
    "model_seq.compile(metrics = ['accuracy'],\n",
    "             optimizer = 'adam',\n",
    "             loss = tf.keras.losses.BinaryCrossentropy())"
   ]
  },
  {
   "cell_type": "markdown",
   "id": "061143a4",
   "metadata": {},
   "source": [
    "#### tf.keras.models.Model"
   ]
  },
  {
   "cell_type": "code",
   "execution_count": 130,
   "id": "13119570",
   "metadata": {},
   "outputs": [],
   "source": [
    "input_layer = Input(shape=(9))\n",
    "x = Dense(128, activation = 'relu')(input_layer)\n",
    "x = Dropout(0.4)(x)\n",
    "x = Dense(128, activation = 'relu')(x)\n",
    "output_layer = Dense(1, activation = 'sigmoid')(x)"
   ]
  },
  {
   "cell_type": "code",
   "execution_count": 131,
   "id": "1becf2e8",
   "metadata": {},
   "outputs": [],
   "source": [
    "model = Model(inputs = [input_layer], outputs = output_layer)\n",
    "model.compile(\n",
    "    metrics = ['accuracy'],\n",
    "    loss = tf.keras.losses.BinaryCrossentropy(),\n",
    "    optimizer = tf.keras.optimizers.Adam()\n",
    ")"
   ]
  },
  {
   "cell_type": "markdown",
   "id": "e136d342",
   "metadata": {},
   "source": [
    "#### Model class for Custom Models"
   ]
  },
  {
   "cell_type": "code",
   "execution_count": 132,
   "id": "f977e370",
   "metadata": {},
   "outputs": [],
   "source": [
    "from tensorflow.keras.models import Model\n",
    "from tensorflow.keras.layers import Layer, Dense, Dropout, Input\n",
    "from tensorflow.keras.utils import plot_model"
   ]
  },
  {
   "cell_type": "code",
   "execution_count": 133,
   "id": "217d9970",
   "metadata": {},
   "outputs": [],
   "source": [
    "class MyModel(Model):\n",
    "    def __init__(self):\n",
    "        super(MyModel, self).__init__()\n",
    "        self.fc_1 = Dense(128, activation = 'relu')\n",
    "        self.output_ = Dense(1, activation = 'sigmoid')\n",
    "        self.dropout = Dropout(0.3)\n",
    "    \n",
    "    def call(self, inputs):\n",
    "        x = self.fc_1(inputs)\n",
    "        x = self.dropout(x)\n",
    "\n",
    "        return self.output_(x)"
   ]
  },
  {
   "cell_type": "code",
   "execution_count": 134,
   "id": "0a3dd114",
   "metadata": {},
   "outputs": [],
   "source": [
    "input_layer = Input(shape = (9))\n",
    "output_layer = MyModel()(input_layer)\n",
    "\n",
    "model = Model(inputs = input_layer, outputs = output_layer)"
   ]
  },
  {
   "cell_type": "code",
   "execution_count": 135,
   "id": "828ade27",
   "metadata": {},
   "outputs": [],
   "source": [
    "model.compile(\n",
    "    metrics = ['accuracy'],\n",
    "    loss = tf.keras.losses.BinaryCrossentropy(),\n",
    "    optimizer = tf.keras.optimizers.Adam()\n",
    ")"
   ]
  },
  {
   "cell_type": "code",
   "execution_count": 136,
   "id": "18c024bf",
   "metadata": {},
   "outputs": [
    {
     "name": "stdout",
     "output_type": "stream",
     "text": [
      "Epoch 1/10\n",
      "18/18 [==============================] - 1s 14ms/step - loss: 0.5907 - accuracy: 0.7656 - val_loss: 0.3754 - val_accuracy: 0.9416\n",
      "Epoch 2/10\n",
      "18/18 [==============================] - 0s 8ms/step - loss: 0.3181 - accuracy: 0.9742 - val_loss: 0.2449 - val_accuracy: 0.9416\n",
      "Epoch 3/10\n",
      "18/18 [==============================] - 0s 7ms/step - loss: 0.1776 - accuracy: 0.9844 - val_loss: 0.1864 - val_accuracy: 0.9416\n",
      "Epoch 4/10\n",
      "18/18 [==============================] - 0s 7ms/step - loss: 0.1270 - accuracy: 0.9752 - val_loss: 0.1598 - val_accuracy: 0.9416\n",
      "Epoch 5/10\n",
      "18/18 [==============================] - 0s 8ms/step - loss: 0.1011 - accuracy: 0.9787 - val_loss: 0.1466 - val_accuracy: 0.9416\n",
      "Epoch 6/10\n",
      "18/18 [==============================] - 0s 8ms/step - loss: 0.0772 - accuracy: 0.9835 - val_loss: 0.1412 - val_accuracy: 0.9416\n",
      "Epoch 7/10\n",
      "18/18 [==============================] - 0s 7ms/step - loss: 0.0733 - accuracy: 0.9794 - val_loss: 0.1381 - val_accuracy: 0.9416\n",
      "Epoch 8/10\n",
      "18/18 [==============================] - 0s 8ms/step - loss: 0.0842 - accuracy: 0.9694 - val_loss: 0.1367 - val_accuracy: 0.9416\n",
      "Epoch 9/10\n",
      "18/18 [==============================] - 0s 7ms/step - loss: 0.0776 - accuracy: 0.9692 - val_loss: 0.1370 - val_accuracy: 0.9416\n",
      "Epoch 10/10\n",
      "18/18 [==============================] - 0s 7ms/step - loss: 0.0570 - accuracy: 0.9767 - val_loss: 0.1382 - val_accuracy: 0.9416\n"
     ]
    },
    {
     "data": {
      "text/plain": [
       "<tensorflow.python.keras.callbacks.History at 0x219b53b7ac0>"
      ]
     },
     "execution_count": 136,
     "metadata": {},
     "output_type": "execute_result"
    }
   ],
   "source": [
    "model.fit(X_train, y_train, epochs = 10, validation_data = (X_test, y_test))"
   ]
  },
  {
   "cell_type": "markdown",
   "id": "f8c99756",
   "metadata": {},
   "source": [
    "## Building the Layers from scratch"
   ]
  },
  {
   "cell_type": "markdown",
   "id": "15601639",
   "metadata": {},
   "source": [
    "Here we will be building a Dense Layer / fully connected layer and a Dropout Layer from scratch"
   ]
  },
  {
   "cell_type": "code",
   "execution_count": 137,
   "id": "8b60c273",
   "metadata": {},
   "outputs": [],
   "source": [
    "class MyDense(Layer):\n",
    "    def __init__(self, units, activation = None):\n",
    "        super(MyDense, self).__init__()\n",
    "        self.units = units\n",
    "        self.activation = tf.keras.activations.get(activation)\n",
    "    \n",
    "    def build(self, input_shape):\n",
    "        \n",
    "        w_init = tf.random_normal_initializer()\n",
    "        self.w = tf.Variable(\n",
    "            name = 'kernel',\n",
    "            initial_value = w_init(shape = (input_shape[-1], self.units), dtype = 'float32'),\n",
    "            trainable = True\n",
    "        )\n",
    "        \n",
    "        b_init = tf.zeros_initializer()\n",
    "        self.b = tf.Variable(\n",
    "            name = 'bias',\n",
    "            initial_value = b_init(shape = (self.units,), dtype = 'float32'),\n",
    "            trainable = True\n",
    "        )\n",
    "        super().build(input_shape)\n",
    "        \n",
    "    def call(self, inputs):\n",
    "        return self.activation(tf.add(tf.matmul(inputs, self.w), self.b))"
   ]
  },
  {
   "cell_type": "code",
   "execution_count": 138,
   "id": "2cbf9746",
   "metadata": {},
   "outputs": [],
   "source": [
    "class MyDropout(Layer):\n",
    "    def __init__(self, drop_pct = 0.0):\n",
    "        super(MyDropout, self).__init__()\n",
    "        self.drop_pct = drop_pct\n",
    "        \n",
    "    def build(self, input_shape):\n",
    "        zeros_tensor = tf.zeros(shape = (int(input_shape[-1] * self.drop_pct), ))\n",
    "        ones_tensor = tf.ones(shape = (input_shape[-1] - int(input_shape[-1] * self.drop_pct), ))\n",
    "        self.drop_matrix = tf.Variable(\n",
    "            name = 'Dropout Matrix',\n",
    "            initial_value = tf.concat([zeros_tensor, ones_tensor], 0),\n",
    "            trainable = False)\n",
    "        \n",
    "        super().build(input_shape)\n",
    "    \n",
    "    def call(self, inputs):\n",
    "        return inputs * tf.random.shuffle(self.drop_matrix)"
   ]
  },
  {
   "cell_type": "code",
   "execution_count": 151,
   "id": "91049a88",
   "metadata": {},
   "outputs": [],
   "source": [
    "input_layer = Input(shape=(9))\n",
    "x = MyDense(128, activation = 'relu')(input_layer)\n",
    "x = MyDropout(0.4)(x)\n",
    "x = MyDense(128, activation = 'relu')(x)\n",
    "output_layer = MyDense(1, activation = 'sigmoid')(x)"
   ]
  },
  {
   "cell_type": "code",
   "execution_count": 140,
   "id": "e14b18e3",
   "metadata": {},
   "outputs": [],
   "source": [
    "model = Model(inputs = [input_layer], outputs = output_layer)"
   ]
  },
  {
   "cell_type": "code",
   "execution_count": 141,
   "id": "1123fe8c",
   "metadata": {},
   "outputs": [
    {
     "name": "stdout",
     "output_type": "stream",
     "text": [
      "Model: \"model_7\"\n",
      "_________________________________________________________________\n",
      "Layer (type)                 Output Shape              Param #   \n",
      "=================================================================\n",
      "input_9 (InputLayer)         [(None, 9)]               0         \n",
      "_________________________________________________________________\n",
      "my_dense_6 (MyDense)         (None, 128)               1280      \n",
      "_________________________________________________________________\n",
      "my_dropout_2 (MyDropout)     (None, 128)               128       \n",
      "_________________________________________________________________\n",
      "my_dense_7 (MyDense)         (None, 128)               16512     \n",
      "_________________________________________________________________\n",
      "my_dense_8 (MyDense)         (None, 1)                 129       \n",
      "=================================================================\n",
      "Total params: 18,049\n",
      "Trainable params: 17,921\n",
      "Non-trainable params: 128\n",
      "_________________________________________________________________\n"
     ]
    }
   ],
   "source": [
    "model.summary()"
   ]
  },
  {
   "cell_type": "code",
   "execution_count": 142,
   "id": "95e6ee0c",
   "metadata": {},
   "outputs": [],
   "source": [
    "model.compile(\n",
    "    metrics = ['accuracy'],\n",
    "    loss = tf.keras.losses.BinaryCrossentropy(),\n",
    "    optimizer = tf.keras.optimizers.Adam())"
   ]
  },
  {
   "cell_type": "code",
   "execution_count": 143,
   "id": "5173bdf3",
   "metadata": {},
   "outputs": [
    {
     "name": "stdout",
     "output_type": "stream",
     "text": [
      "Epoch 1/10\n",
      "18/18 [==============================] - 1s 15ms/step - loss: 0.6722 - accuracy: 0.8183 - val_loss: 0.5916 - val_accuracy: 0.9343\n",
      "Epoch 2/10\n",
      "18/18 [==============================] - 0s 7ms/step - loss: 0.5227 - accuracy: 0.9846 - val_loss: 0.3739 - val_accuracy: 0.9343\n",
      "Epoch 3/10\n",
      "18/18 [==============================] - 0s 7ms/step - loss: 0.2658 - accuracy: 0.9828 - val_loss: 0.1960 - val_accuracy: 0.9343\n",
      "Epoch 4/10\n",
      "18/18 [==============================] - 0s 8ms/step - loss: 0.1163 - accuracy: 0.9745 - val_loss: 0.1534 - val_accuracy: 0.9343\n",
      "Epoch 5/10\n",
      "18/18 [==============================] - 0s 8ms/step - loss: 0.0776 - accuracy: 0.9714 - val_loss: 0.1414 - val_accuracy: 0.9343\n",
      "Epoch 6/10\n",
      "18/18 [==============================] - 0s 7ms/step - loss: 0.0671 - accuracy: 0.9759 - val_loss: 0.1395 - val_accuracy: 0.9343\n",
      "Epoch 7/10\n",
      "18/18 [==============================] - 0s 7ms/step - loss: 0.0649 - accuracy: 0.9758 - val_loss: 0.1373 - val_accuracy: 0.9343\n",
      "Epoch 8/10\n",
      "18/18 [==============================] - 0s 7ms/step - loss: 0.0432 - accuracy: 0.9920 - val_loss: 0.1440 - val_accuracy: 0.9343\n",
      "Epoch 9/10\n",
      "18/18 [==============================] - 0s 7ms/step - loss: 0.0721 - accuracy: 0.9795 - val_loss: 0.1396 - val_accuracy: 0.9343\n",
      "Epoch 10/10\n",
      "18/18 [==============================] - 0s 7ms/step - loss: 0.0545 - accuracy: 0.9844 - val_loss: 0.1406 - val_accuracy: 0.9343\n"
     ]
    },
    {
     "data": {
      "text/plain": [
       "<tensorflow.python.keras.callbacks.History at 0x219be77fc10>"
      ]
     },
     "execution_count": 143,
     "metadata": {},
     "output_type": "execute_result"
    }
   ],
   "source": [
    "model.fit(X_train, y_train, epochs = 10, validation_data = (X_test, y_test))"
   ]
  },
  {
   "cell_type": "markdown",
   "id": "98de71c8",
   "metadata": {},
   "source": [
    "### Testing your model"
   ]
  },
  {
   "cell_type": "code",
   "execution_count": 152,
   "id": "09e36843",
   "metadata": {},
   "outputs": [
    {
     "data": {
      "text/plain": [
       "(137, 9)"
      ]
     },
     "execution_count": 152,
     "metadata": {},
     "output_type": "execute_result"
    }
   ],
   "source": [
    "X_test.shape"
   ]
  },
  {
   "cell_type": "code",
   "execution_count": 156,
   "id": "3104aaaf",
   "metadata": {},
   "outputs": [],
   "source": [
    "y_preds = model.predict(X_test)\n",
    "y_preds = np.array([1 if x >= 0.5 else 0 for x in y_preds ])"
   ]
  },
  {
   "cell_type": "code",
   "execution_count": 157,
   "id": "8e1a4cff",
   "metadata": {},
   "outputs": [
    {
     "data": {
      "text/plain": [
       "array([0, 1, 1, 1, 1, 0, 0, 1, 0, 0, 0, 1, 0, 1, 0, 0, 0, 1, 0, 0, 0, 1,\n",
       "       0, 1, 0, 0, 1, 0, 1, 0, 1, 0, 0, 1, 0, 1, 0, 1, 0, 0, 0, 0, 1, 0,\n",
       "       1, 1, 1, 1, 1, 0, 0, 1, 1, 0, 1, 0, 1, 0, 1, 0, 0, 0, 1, 1, 0, 1,\n",
       "       0, 0, 0, 0, 1, 1, 0, 0, 1, 1, 1, 0, 0, 0, 0, 0, 0, 0, 1, 0, 0, 0,\n",
       "       0, 0, 1, 0, 1, 0, 1, 0, 0, 0, 0, 0, 1, 0, 1, 1, 1, 1, 0, 1, 0, 0,\n",
       "       0, 0, 1, 0, 0, 0, 0, 1, 0, 1, 0, 1, 0, 1, 0, 0, 0, 0, 1, 0, 1, 0,\n",
       "       1, 0, 0, 0, 0])"
      ]
     },
     "execution_count": 157,
     "metadata": {},
     "output_type": "execute_result"
    }
   ],
   "source": [
    "y_preds"
   ]
  },
  {
   "cell_type": "code",
   "execution_count": 158,
   "id": "b8e12305",
   "metadata": {},
   "outputs": [
    {
     "data": {
      "text/plain": [
       "array([0, 0, 1, 1, 1, 0, 0, 1, 0, 0, 0, 1, 0, 1, 0, 0, 0, 1, 1, 0, 0, 1,\n",
       "       0, 1, 0, 0, 1, 0, 1, 0, 1, 0, 0, 1, 0, 0, 0, 1, 0, 0, 0, 0, 1, 0,\n",
       "       1, 1, 1, 1, 1, 1, 0, 1, 1, 0, 0, 0, 1, 0, 0, 0, 0, 0, 1, 1, 0, 1,\n",
       "       0, 0, 0, 0, 1, 1, 0, 0, 1, 1, 1, 0, 0, 0, 0, 0, 0, 0, 1, 0, 0, 0,\n",
       "       0, 0, 1, 0, 1, 0, 1, 0, 0, 0, 0, 0, 1, 0, 1, 1, 0, 0, 0, 1, 0, 0,\n",
       "       0, 0, 1, 0, 0, 0, 0, 1, 0, 1, 0, 1, 0, 0, 0, 0, 0, 0, 1, 0, 1, 0,\n",
       "       1, 0, 0, 0, 0])"
      ]
     },
     "execution_count": 158,
     "metadata": {},
     "output_type": "execute_result"
    }
   ],
   "source": [
    "y_test"
   ]
  },
  {
   "cell_type": "code",
   "execution_count": 165,
   "id": "20c0b407",
   "metadata": {},
   "outputs": [],
   "source": [
    "accuracy = sum(\n",
    "    [1 \n",
    "     if (y_preds[i] == y_test[i])\n",
    "     else 0 \n",
    "     for i in range(len(y_preds))\n",
    "    ]) / len(y_preds)"
   ]
  },
  {
   "cell_type": "code",
   "execution_count": 167,
   "id": "01021179",
   "metadata": {},
   "outputs": [
    {
     "data": {
      "text/plain": [
       "93.43065693430657"
      ]
     },
     "execution_count": 167,
     "metadata": {},
     "output_type": "execute_result"
    }
   ],
   "source": [
    "accuracy * 100"
   ]
  },
  {
   "cell_type": "markdown",
   "id": "f7583c66",
   "metadata": {},
   "source": [
    "## MNIST"
   ]
  },
  {
   "cell_type": "code",
   "execution_count": 221,
   "id": "32b94d53",
   "metadata": {},
   "outputs": [],
   "source": [
    "from tensorflow import keras\n",
    "from tensorflow.keras.layers import Flatten"
   ]
  },
  {
   "cell_type": "code",
   "execution_count": 222,
   "id": "54d7353f",
   "metadata": {},
   "outputs": [],
   "source": [
    "(x_train, y_train), (x_test, y_test) = keras.datasets.mnist.load_data()"
   ]
  },
  {
   "cell_type": "code",
   "execution_count": 223,
   "id": "680612a8",
   "metadata": {},
   "outputs": [
    {
     "data": {
      "text/plain": [
       "(60000, 28, 28)"
      ]
     },
     "execution_count": 223,
     "metadata": {},
     "output_type": "execute_result"
    }
   ],
   "source": [
    "x_train.shape"
   ]
  },
  {
   "cell_type": "code",
   "execution_count": 224,
   "id": "18aa4377",
   "metadata": {},
   "outputs": [
    {
     "data": {
      "text/plain": [
       "5"
      ]
     },
     "execution_count": 224,
     "metadata": {},
     "output_type": "execute_result"
    }
   ],
   "source": [
    "y_train[0]"
   ]
  },
  {
   "cell_type": "code",
   "execution_count": 225,
   "id": "a5381ca3",
   "metadata": {
    "scrolled": true
   },
   "outputs": [
    {
     "data": {
      "text/plain": [
       "(60000,)"
      ]
     },
     "execution_count": 225,
     "metadata": {},
     "output_type": "execute_result"
    }
   ],
   "source": [
    "y_train.shape"
   ]
  },
  {
   "cell_type": "code",
   "execution_count": 226,
   "id": "4aa5fa79",
   "metadata": {},
   "outputs": [
    {
     "data": {
      "text/plain": [
       "<matplotlib.image.AxesImage at 0x219b83fe550>"
      ]
     },
     "execution_count": 226,
     "metadata": {},
     "output_type": "execute_result"
    },
    {
     "data": {
      "image/png": "[encoded data removed]",
      "text/plain": [
       "<Figure size 432x288 with 1 Axes>"
      ]
     },
     "metadata": {
      "needs_background": "light"
     },
     "output_type": "display_data"
    }
   ],
   "source": [
    "plt.imshow(x_train[0].reshape((28, 28, 1)))"
   ]
  },
  {
   "cell_type": "code",
   "execution_count": 227,
   "id": "ded345f5",
   "metadata": {},
   "outputs": [],
   "source": [
    "def encoding(x):\n",
    "    val = [0 for i in range(10)]\n",
    "    val[x] = 1\n",
    "    return np.reshape(np.array(val), (-1))"
   ]
  },
  {
   "cell_type": "code",
   "execution_count": 228,
   "id": "351814e2",
   "metadata": {},
   "outputs": [],
   "source": [
    "y_train = np.array(list(map(encoding, y_train)))\n",
    "y_test = np.array(list(map(encoding, y_test)))"
   ]
  },
  {
   "cell_type": "code",
   "execution_count": 229,
   "id": "1b3cdb74",
   "metadata": {},
   "outputs": [
    {
     "data": {
      "text/plain": [
       "(60000, 10)"
      ]
     },
     "execution_count": 229,
     "metadata": {},
     "output_type": "execute_result"
    }
   ],
   "source": [
    "y_train.shape"
   ]
  },
  {
   "cell_type": "code",
   "execution_count": 230,
   "id": "05653cea",
   "metadata": {},
   "outputs": [
    {
     "data": {
      "text/plain": [
       "(10000, 10)"
      ]
     },
     "execution_count": 230,
     "metadata": {},
     "output_type": "execute_result"
    }
   ],
   "source": [
    "y_test.shape"
   ]
  },
  {
   "cell_type": "code",
   "execution_count": 231,
   "id": "783be492",
   "metadata": {},
   "outputs": [],
   "source": [
    "model = tf.keras.models.Sequential(\n",
    "    [\n",
    "        Input(shape = (28, 28)),\n",
    "        Flatten(),\n",
    "        Dense(128, activation = 'relu'),\n",
    "        Dropout(0.3),\n",
    "        Dense(10, activation = 'sigmoid'),\n",
    "    ]\n",
    ")"
   ]
  },
  {
   "cell_type": "code",
   "execution_count": 232,
   "id": "448d9603",
   "metadata": {},
   "outputs": [],
   "source": [
    "model.compile(\n",
    "    optimizer = 'adam',\n",
    "    loss = tf.keras.losses.CategoricalCrossentropy(),\n",
    "    metrics = ['accuracy'],\n",
    ")"
   ]
  },
  {
   "cell_type": "code",
   "execution_count": 233,
   "id": "19211d84",
   "metadata": {},
   "outputs": [
    {
     "name": "stdout",
     "output_type": "stream",
     "text": [
      "1875/1875 [==============================] - 6s 3ms/step - loss: 8.1781 - accuracy: 0.6551 - val_loss: 0.5829 - val_accuracy: 0.8686\n"
     ]
    },
    {
     "data": {
      "text/plain": [
       "<tensorflow.python.keras.callbacks.History at 0x219b8e8fdf0>"
      ]
     },
     "execution_count": 233,
     "metadata": {},
     "output_type": "execute_result"
    }
   ],
   "source": [
    "model.fit(x_train, y_train, epochs = 1, validation_data = (x_test, y_test))"
   ]
  },
  {
   "cell_type": "code",
   "execution_count": 234,
   "id": "a84bcb58",
   "metadata": {},
   "outputs": [
    {
     "name": "stdout",
     "output_type": "stream",
     "text": [
      "Model: \"sequential_9\"\n",
      "_________________________________________________________________\n",
      "Layer (type)                 Output Shape              Param #   \n",
      "=================================================================\n",
      "flatten_7 (Flatten)          (None, 784)               0         \n",
      "_________________________________________________________________\n",
      "dense_30 (Dense)             (None, 128)               100480    \n",
      "_________________________________________________________________\n",
      "dropout_14 (Dropout)         (None, 128)               0         \n",
      "_________________________________________________________________\n",
      "dense_31 (Dense)             (None, 10)                1290      \n",
      "=================================================================\n",
      "Total params: 101,770\n",
      "Trainable params: 101,770\n",
      "Non-trainable params: 0\n",
      "_________________________________________________________________\n"
     ]
    }
   ],
   "source": [
    "model.summary()"
   ]
  },
  {
   "cell_type": "code",
   "execution_count": 235,
   "id": "8357dd3c",
   "metadata": {},
   "outputs": [
    {
     "data": {
      "image/png": "[encoded data removed]",
      "text/plain": [
       "<IPython.core.display.Image object>"
      ]
     },
     "execution_count": 235,
     "metadata": {},
     "output_type": "execute_result"
    }
   ],
   "source": [
    "tf.keras.utils.plot_model(model)"
   ]
  },
  {
   "cell_type": "code",
   "execution_count": 236,
   "id": "9ad91ac7",
   "metadata": {},
   "outputs": [
    {
     "data": {
      "text/plain": [
       "(10000, 28, 28)"
      ]
     },
     "execution_count": 236,
     "metadata": {},
     "output_type": "execute_result"
    }
   ],
   "source": [
    "x_test.shape"
   ]
  },
  {
   "cell_type": "code",
   "execution_count": 237,
   "id": "6a0a7933",
   "metadata": {},
   "outputs": [
    {
     "name": "stdout",
     "output_type": "stream",
     "text": [
      "Model: \"sequential_9\"\n",
      "_________________________________________________________________\n",
      "Layer (type)                 Output Shape              Param #   \n",
      "=================================================================\n",
      "flatten_7 (Flatten)          (None, 784)               0         \n",
      "_________________________________________________________________\n",
      "dense_30 (Dense)             (None, 128)               100480    \n",
      "_________________________________________________________________\n",
      "dropout_14 (Dropout)         (None, 128)               0         \n",
      "_________________________________________________________________\n",
      "dense_31 (Dense)             (None, 10)                1290      \n",
      "=================================================================\n",
      "Total params: 101,770\n",
      "Trainable params: 101,770\n",
      "Non-trainable params: 0\n",
      "_________________________________________________________________\n"
     ]
    }
   ],
   "source": [
    "model.summary()"
   ]
  },
  {
   "cell_type": "code",
   "execution_count": 238,
   "id": "fe909346",
   "metadata": {},
   "outputs": [],
   "source": [
    "y_preds = model.predict(x_test)"
   ]
  },
  {
   "cell_type": "code",
   "execution_count": 239,
   "id": "307a73c2",
   "metadata": {},
   "outputs": [],
   "source": [
    "y_preds = np.array([np.argmax(i) for i in y_preds])"
   ]
  },
  {
   "cell_type": "code",
   "execution_count": 240,
   "id": "8f8bdf23",
   "metadata": {},
   "outputs": [],
   "source": [
    "y_test = np.array([np.argmax(i) for i in y_test])"
   ]
  },
  {
   "cell_type": "code",
   "execution_count": 241,
   "id": "01202ad6",
   "metadata": {},
   "outputs": [],
   "source": [
    "accuracy = sum(\n",
    "    [1 \n",
    "     if (y_preds[i] == y_test[i])\n",
    "     else 0 \n",
    "     for i in range(len(y_preds))\n",
    "    ]) / len(y_preds)"
   ]
  },
  {
   "cell_type": "code",
   "execution_count": 242,
   "id": "e742ed52",
   "metadata": {},
   "outputs": [
    {
     "data": {
      "text/plain": [
       "61.36000000000001"
      ]
     },
     "execution_count": 242,
     "metadata": {},
     "output_type": "execute_result"
    }
   ],
   "source": [
    "accuracy * 100"
   ]
  }
 ],
 "metadata": {
  "kernelspec": {
   "display_name": "Python 3",
   "language": "python",
   "name": "python3"
  },
  "language_info": {
   "codemirror_mode": {
    "name": "ipython",
    "version": 3
   },
   "file_extension": ".py",
   "mimetype": "text/x-python",
   "name": "python",
   "nbconvert_exporter": "python",
   "pygments_lexer": "ipython3",
   "version": "3.8.6"
  }
 },
 "nbformat": 4,
 "nbformat_minor": 5
}
